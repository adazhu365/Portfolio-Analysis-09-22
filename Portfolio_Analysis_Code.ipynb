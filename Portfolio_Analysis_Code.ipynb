{
 "cells": [
  {
   "cell_type": "code",
   "execution_count": 269,
   "metadata": {},
   "outputs": [],
   "source": [
    "import pandas as pd\n",
    "import numpy as np\n",
    "import matplotlib.pyplot as plt\n",
    "import matplotlib\n",
    "\n",
    "rawdata = pd.read_csv(\"undergrad_takehome_2020.csv\")"
   ]
  },
  {
   "cell_type": "code",
   "execution_count": null,
   "metadata": {},
   "outputs": [],
   "source": [
    "#Part 1 – Summary statistics and plots"
   ]
  },
  {
   "cell_type": "code",
   "execution_count": 270,
   "metadata": {},
   "outputs": [],
   "source": [
    "#Compute the net income of each entry\n",
    "rawdata['Net income'] = rawdata['Gross revenue'] - rawdata['Fixed cost'] - rawdata['Variable cost'] -rawdata['Rental cost']\n",
    "\n",
    "#Compute the annual profit margin\n",
    "aggregate_1 = rawdata.groupby(rawdata['Location number']).sum()\n",
    "aggregate_1['Profit margin'] = (aggregate_1['Net income'] / aggregate_1['Number of products'])"
   ]
  },
  {
   "cell_type": "code",
   "execution_count": 271,
   "metadata": {},
   "outputs": [
    {
     "data": {
      "text/plain": [
       "1743.7514646486309"
      ]
     },
     "execution_count": 271,
     "metadata": {},
     "output_type": "execute_result"
    }
   ],
   "source": [
    "aggregate_1['Profit margin'].mean() #Mean of Annual Profit Margin -- 1743.7514646486309"
   ]
  },
  {
   "cell_type": "code",
   "execution_count": 272,
   "metadata": {},
   "outputs": [
    {
     "data": {
      "text/plain": [
       "1476.0668245501743"
      ]
     },
     "execution_count": 272,
     "metadata": {},
     "output_type": "execute_result"
    }
   ],
   "source": [
    "aggregate_1['Profit margin'].median()#Median of Annual Profit Margin -- 1476.0668245501743"
   ]
  },
  {
   "cell_type": "code",
   "execution_count": 273,
   "metadata": {},
   "outputs": [],
   "source": [
    "#convert aggregated location number back to 1-333 for x-axis in scatterplot\n",
    "aggregate_1['Location number'] = aggregate_1['Location number']//12 "
   ]
  },
  {
   "cell_type": "code",
   "execution_count": 276,
   "metadata": {},
   "outputs": [
    {
     "data": {
      "text/html": [
       "<div>\n",
       "<style scoped>\n",
       "    .dataframe tbody tr th:only-of-type {\n",
       "        vertical-align: middle;\n",
       "    }\n",
       "\n",
       "    .dataframe tbody tr th {\n",
       "        vertical-align: top;\n",
       "    }\n",
       "\n",
       "    .dataframe thead th {\n",
       "        text-align: right;\n",
       "    }\n",
       "</style>\n",
       "<table border=\"1\" class=\"dataframe\">\n",
       "  <thead>\n",
       "    <tr style=\"text-align: right;\">\n",
       "      <th></th>\n",
       "      <th>Location number</th>\n",
       "      <th>Month</th>\n",
       "      <th>Gross revenue</th>\n",
       "      <th>Fixed cost</th>\n",
       "      <th>Variable cost</th>\n",
       "      <th>Rental cost</th>\n",
       "      <th>Number of products</th>\n",
       "      <th>Owned</th>\n",
       "      <th>Net income</th>\n",
       "      <th>Profit margin</th>\n",
       "    </tr>\n",
       "    <tr>\n",
       "      <th>Location number</th>\n",
       "      <th></th>\n",
       "      <th></th>\n",
       "      <th></th>\n",
       "      <th></th>\n",
       "      <th></th>\n",
       "      <th></th>\n",
       "      <th></th>\n",
       "      <th></th>\n",
       "      <th></th>\n",
       "      <th></th>\n",
       "    </tr>\n",
       "  </thead>\n",
       "  <tbody>\n",
       "    <tr>\n",
       "      <th>1</th>\n",
       "      <td>1</td>\n",
       "      <td>78</td>\n",
       "      <td>5.447389e+08</td>\n",
       "      <td>1.108956e+08</td>\n",
       "      <td>2.793687e+08</td>\n",
       "      <td>4390560</td>\n",
       "      <td>53424</td>\n",
       "      <td>0.0</td>\n",
       "      <td>1.500840e+08</td>\n",
       "      <td>2809.299529</td>\n",
       "    </tr>\n",
       "    <tr>\n",
       "      <th>2</th>\n",
       "      <td>2</td>\n",
       "      <td>78</td>\n",
       "      <td>3.559730e+08</td>\n",
       "      <td>7.287395e+07</td>\n",
       "      <td>1.937291e+08</td>\n",
       "      <td>783240</td>\n",
       "      <td>54024</td>\n",
       "      <td>0.0</td>\n",
       "      <td>8.858672e+07</td>\n",
       "      <td>1639.766103</td>\n",
       "    </tr>\n",
       "    <tr>\n",
       "      <th>3</th>\n",
       "      <td>3</td>\n",
       "      <td>78</td>\n",
       "      <td>3.317718e+08</td>\n",
       "      <td>6.429775e+07</td>\n",
       "      <td>1.848279e+08</td>\n",
       "      <td>0</td>\n",
       "      <td>55440</td>\n",
       "      <td>12.0</td>\n",
       "      <td>8.264618e+07</td>\n",
       "      <td>1490.731961</td>\n",
       "    </tr>\n",
       "    <tr>\n",
       "      <th>4</th>\n",
       "      <td>4</td>\n",
       "      <td>78</td>\n",
       "      <td>2.639843e+08</td>\n",
       "      <td>6.410409e+07</td>\n",
       "      <td>1.432398e+08</td>\n",
       "      <td>1696920</td>\n",
       "      <td>53772</td>\n",
       "      <td>0.0</td>\n",
       "      <td>5.494349e+07</td>\n",
       "      <td>1021.786223</td>\n",
       "    </tr>\n",
       "    <tr>\n",
       "      <th>5</th>\n",
       "      <td>5</td>\n",
       "      <td>78</td>\n",
       "      <td>1.890016e+08</td>\n",
       "      <td>4.475050e+07</td>\n",
       "      <td>1.037553e+08</td>\n",
       "      <td>894000</td>\n",
       "      <td>54396</td>\n",
       "      <td>0.0</td>\n",
       "      <td>3.960178e+07</td>\n",
       "      <td>728.027401</td>\n",
       "    </tr>\n",
       "  </tbody>\n",
       "</table>\n",
       "</div>"
      ],
      "text/plain": [
       "                 Location number  Month  Gross revenue    Fixed cost  \\\n",
       "Location number                                                        \n",
       "1                              1     78   5.447389e+08  1.108956e+08   \n",
       "2                              2     78   3.559730e+08  7.287395e+07   \n",
       "3                              3     78   3.317718e+08  6.429775e+07   \n",
       "4                              4     78   2.639843e+08  6.410409e+07   \n",
       "5                              5     78   1.890016e+08  4.475050e+07   \n",
       "\n",
       "                 Variable cost  Rental cost  Number of products  Owned  \\\n",
       "Location number                                                          \n",
       "1                 2.793687e+08      4390560               53424    0.0   \n",
       "2                 1.937291e+08       783240               54024    0.0   \n",
       "3                 1.848279e+08            0               55440   12.0   \n",
       "4                 1.432398e+08      1696920               53772    0.0   \n",
       "5                 1.037553e+08       894000               54396    0.0   \n",
       "\n",
       "                   Net income  Profit margin  \n",
       "Location number                               \n",
       "1                1.500840e+08    2809.299529  \n",
       "2                8.858672e+07    1639.766103  \n",
       "3                8.264618e+07    1490.731961  \n",
       "4                5.494349e+07    1021.786223  \n",
       "5                3.960178e+07     728.027401  "
      ]
     },
     "execution_count": 276,
     "metadata": {},
     "output_type": "execute_result"
    }
   ],
   "source": [
    "aggregate_1.head() #Check the schema of dataframe"
   ]
  },
  {
   "cell_type": "code",
   "execution_count": 278,
   "metadata": {},
   "outputs": [
    {
     "data": {
      "image/png": "[encoded data removed]",
      "text/plain": [
       "<Figure size 432x288 with 1 Axes>"
      ]
     },
     "metadata": {
      "needs_background": "light"
     },
     "output_type": "display_data"
    }
   ],
   "source": [
    "#Visualize the profit margin across locations\n",
    "plt.scatter(aggregate_1['Location number'], aggregate_1['Profit margin'], alpha=0.5)\n",
    "plt.title(\"Annual Profit Margin\")\n",
    "plt.xlabel(\"Store Location\")\n",
    "plt.ylabel(\"Profit Margin\")\n",
    "plt.show()\n",
    "#Most of the points seem to fall into the band between 0 and 5000, showing a normal distribution overall. However, \n",
    "#some of the stores have profit margin over 5000 and seem to outperfom the other locations."
   ]
  },
  {
   "cell_type": "code",
   "execution_count": 281,
   "metadata": {},
   "outputs": [
    {
     "data": {
      "text/html": [
       "<div>\n",
       "<style scoped>\n",
       "    .dataframe tbody tr th:only-of-type {\n",
       "        vertical-align: middle;\n",
       "    }\n",
       "\n",
       "    .dataframe tbody tr th {\n",
       "        vertical-align: top;\n",
       "    }\n",
       "\n",
       "    .dataframe thead th {\n",
       "        text-align: right;\n",
       "    }\n",
       "</style>\n",
       "<table border=\"1\" class=\"dataframe\">\n",
       "  <thead>\n",
       "    <tr style=\"text-align: right;\">\n",
       "      <th></th>\n",
       "      <th>Location number</th>\n",
       "      <th>Month</th>\n",
       "      <th>Gross revenue</th>\n",
       "      <th>Fixed cost</th>\n",
       "      <th>Variable cost</th>\n",
       "      <th>Rental cost</th>\n",
       "      <th>Number of products</th>\n",
       "      <th>Owned</th>\n",
       "      <th>Net income</th>\n",
       "      <th>Profit margin</th>\n",
       "    </tr>\n",
       "    <tr>\n",
       "      <th>Location number</th>\n",
       "      <th></th>\n",
       "      <th></th>\n",
       "      <th></th>\n",
       "      <th></th>\n",
       "      <th></th>\n",
       "      <th></th>\n",
       "      <th></th>\n",
       "      <th></th>\n",
       "      <th></th>\n",
       "      <th></th>\n",
       "    </tr>\n",
       "  </thead>\n",
       "  <tbody>\n",
       "    <tr>\n",
       "      <th>9</th>\n",
       "      <td>9</td>\n",
       "      <td>78</td>\n",
       "      <td>8.129180e+08</td>\n",
       "      <td>1.403155e+08</td>\n",
       "      <td>3.780220e+08</td>\n",
       "      <td>0</td>\n",
       "      <td>57468</td>\n",
       "      <td>12.0</td>\n",
       "      <td>2.945805e+08</td>\n",
       "      <td>5125.992123</td>\n",
       "    </tr>\n",
       "    <tr>\n",
       "      <th>53</th>\n",
       "      <td>53</td>\n",
       "      <td>78</td>\n",
       "      <td>1.200481e+09</td>\n",
       "      <td>2.317061e+08</td>\n",
       "      <td>5.915411e+08</td>\n",
       "      <td>4138080</td>\n",
       "      <td>55428</td>\n",
       "      <td>0.0</td>\n",
       "      <td>3.730962e+08</td>\n",
       "      <td>6731.185816</td>\n",
       "    </tr>\n",
       "    <tr>\n",
       "      <th>63</th>\n",
       "      <td>63</td>\n",
       "      <td>78</td>\n",
       "      <td>9.628583e+08</td>\n",
       "      <td>1.613098e+08</td>\n",
       "      <td>5.129023e+08</td>\n",
       "      <td>4178880</td>\n",
       "      <td>54420</td>\n",
       "      <td>0.0</td>\n",
       "      <td>2.844673e+08</td>\n",
       "      <td>5227.257392</td>\n",
       "    </tr>\n",
       "    <tr>\n",
       "      <th>118</th>\n",
       "      <td>118</td>\n",
       "      <td>78</td>\n",
       "      <td>9.660039e+08</td>\n",
       "      <td>1.499075e+08</td>\n",
       "      <td>4.630773e+08</td>\n",
       "      <td>3715680</td>\n",
       "      <td>56712</td>\n",
       "      <td>0.0</td>\n",
       "      <td>3.493035e+08</td>\n",
       "      <td>6159.251638</td>\n",
       "    </tr>\n",
       "    <tr>\n",
       "      <th>197</th>\n",
       "      <td>197</td>\n",
       "      <td>78</td>\n",
       "      <td>9.240643e+08</td>\n",
       "      <td>1.511196e+08</td>\n",
       "      <td>4.735727e+08</td>\n",
       "      <td>3431400</td>\n",
       "      <td>55128</td>\n",
       "      <td>0.0</td>\n",
       "      <td>2.959405e+08</td>\n",
       "      <td>5368.243896</td>\n",
       "    </tr>\n",
       "    <tr>\n",
       "      <th>201</th>\n",
       "      <td>201</td>\n",
       "      <td>78</td>\n",
       "      <td>9.844938e+08</td>\n",
       "      <td>2.006377e+08</td>\n",
       "      <td>4.897594e+08</td>\n",
       "      <td>8277000</td>\n",
       "      <td>53760</td>\n",
       "      <td>0.0</td>\n",
       "      <td>2.858197e+08</td>\n",
       "      <td>5316.587561</td>\n",
       "    </tr>\n",
       "    <tr>\n",
       "      <th>276</th>\n",
       "      <td>276</td>\n",
       "      <td>78</td>\n",
       "      <td>1.088887e+09</td>\n",
       "      <td>1.692206e+08</td>\n",
       "      <td>5.734866e+08</td>\n",
       "      <td>6564120</td>\n",
       "      <td>54552</td>\n",
       "      <td>0.0</td>\n",
       "      <td>3.396158e+08</td>\n",
       "      <td>6225.541818</td>\n",
       "    </tr>\n",
       "    <tr>\n",
       "      <th>300</th>\n",
       "      <td>300</td>\n",
       "      <td>78</td>\n",
       "      <td>1.088825e+09</td>\n",
       "      <td>1.706193e+08</td>\n",
       "      <td>5.395776e+08</td>\n",
       "      <td>0</td>\n",
       "      <td>56832</td>\n",
       "      <td>12.0</td>\n",
       "      <td>3.786283e+08</td>\n",
       "      <td>6662.238115</td>\n",
       "    </tr>\n",
       "    <tr>\n",
       "      <th>303</th>\n",
       "      <td>303</td>\n",
       "      <td>78</td>\n",
       "      <td>8.593133e+08</td>\n",
       "      <td>1.509103e+08</td>\n",
       "      <td>4.260014e+08</td>\n",
       "      <td>6430920</td>\n",
       "      <td>54888</td>\n",
       "      <td>0.0</td>\n",
       "      <td>2.759706e+08</td>\n",
       "      <td>5027.886335</td>\n",
       "    </tr>\n",
       "  </tbody>\n",
       "</table>\n",
       "</div>"
      ],
      "text/plain": [
       "                 Location number  Month  Gross revenue    Fixed cost  \\\n",
       "Location number                                                        \n",
       "9                              9     78   8.129180e+08  1.403155e+08   \n",
       "53                            53     78   1.200481e+09  2.317061e+08   \n",
       "63                            63     78   9.628583e+08  1.613098e+08   \n",
       "118                          118     78   9.660039e+08  1.499075e+08   \n",
       "197                          197     78   9.240643e+08  1.511196e+08   \n",
       "201                          201     78   9.844938e+08  2.006377e+08   \n",
       "276                          276     78   1.088887e+09  1.692206e+08   \n",
       "300                          300     78   1.088825e+09  1.706193e+08   \n",
       "303                          303     78   8.593133e+08  1.509103e+08   \n",
       "\n",
       "                 Variable cost  Rental cost  Number of products  Owned  \\\n",
       "Location number                                                          \n",
       "9                 3.780220e+08            0               57468   12.0   \n",
       "53                5.915411e+08      4138080               55428    0.0   \n",
       "63                5.129023e+08      4178880               54420    0.0   \n",
       "118               4.630773e+08      3715680               56712    0.0   \n",
       "197               4.735727e+08      3431400               55128    0.0   \n",
       "201               4.897594e+08      8277000               53760    0.0   \n",
       "276               5.734866e+08      6564120               54552    0.0   \n",
       "300               5.395776e+08            0               56832   12.0   \n",
       "303               4.260014e+08      6430920               54888    0.0   \n",
       "\n",
       "                   Net income  Profit margin  \n",
       "Location number                               \n",
       "9                2.945805e+08    5125.992123  \n",
       "53               3.730962e+08    6731.185816  \n",
       "63               2.844673e+08    5227.257392  \n",
       "118              3.493035e+08    6159.251638  \n",
       "197              2.959405e+08    5368.243896  \n",
       "201              2.858197e+08    5316.587561  \n",
       "276              3.396158e+08    6225.541818  \n",
       "300              3.786283e+08    6662.238115  \n",
       "303              2.759706e+08    5027.886335  "
      ]
     },
     "execution_count": 281,
     "metadata": {},
     "output_type": "execute_result"
    }
   ],
   "source": [
    "#Pull up the locations that are having way higher profit margin for further analysis\n",
    "aggregate_1.loc[aggregate_1['Profit margin'] > 5000]"
   ]
  },
  {
   "cell_type": "code",
   "execution_count": null,
   "metadata": {},
   "outputs": [],
   "source": []
  },
  {
   "cell_type": "code",
   "execution_count": null,
   "metadata": {},
   "outputs": [],
   "source": [
    "#2) Plot the monthly and quarterly aggregate revenue across all stores."
   ]
  },
  {
   "cell_type": "code",
   "execution_count": 282,
   "metadata": {},
   "outputs": [],
   "source": [
    "#Create the second dataframe that aggregates across each month\n",
    "aggregate_2 = rawdata.groupby(rawdata['Month']).sum()"
   ]
  },
  {
   "cell_type": "code",
   "execution_count": 283,
   "metadata": {},
   "outputs": [
    {
     "data": {
      "text/plain": [
       "<matplotlib.axes._subplots.AxesSubplot at 0x11fff9470>"
      ]
     },
     "execution_count": 283,
     "metadata": {},
     "output_type": "execute_result"
    },
    {
     "data": {
      "image/png": "[encoded data removed]",
      "text/plain": [
       "<Figure size 432x288 with 1 Axes>"
      ]
     },
     "metadata": {
      "needs_background": "light"
     },
     "output_type": "display_data"
    }
   ],
   "source": [
    "aggregate_2['Gross revenue'].plot()#Months 3, 6, 9, 12 have the highest revenue"
   ]
  },
  {
   "cell_type": "code",
   "execution_count": 284,
   "metadata": {},
   "outputs": [],
   "source": [
    "#Create the new column, Quarter, for quarterly analysis\n",
    "conditions = [\n",
    "    rawdata['Month'].isin([1, 2, 3]),\n",
    "    rawdata['Month'].isin([4, 5, 6]),\n",
    "    rawdata['Month'].isin([7, 8, 9])]\n",
    "choices = ['Q1', 'Q2', 'Q3']\n",
    "rawdata['Quarter'] = np.select(conditions, choices, default='Q4') #quarterly\n",
    "\n",
    "#Create the third dataframe that aggregates across each quarter\n",
    "aggregate_3 = rawdata.groupby(rawdata['Quarter']).sum()"
   ]
  },
  {
   "cell_type": "code",
   "execution_count": 285,
   "metadata": {},
   "outputs": [
    {
     "data": {
      "text/plain": [
       "<matplotlib.axes._subplots.AxesSubplot at 0x127bca128>"
      ]
     },
     "execution_count": 285,
     "metadata": {},
     "output_type": "execute_result"
    },
    {
     "data": {
      "image/png": "[encoded data removed]",
      "text/plain": [
       "<Figure size 432x288 with 1 Axes>"
      ]
     },
     "metadata": {
      "needs_background": "light"
     },
     "output_type": "display_data"
    }
   ],
   "source": [
    "aggregate_3['Gross revenue'].plot()#peak at Q1, lowest at Q2, with the largest difference being around 1e9"
   ]
  },
  {
   "cell_type": "code",
   "execution_count": null,
   "metadata": {},
   "outputs": [],
   "source": [
    "#Part 2 – Cleaning the data"
   ]
  },
  {
   "cell_type": "code",
   "execution_count": 286,
   "metadata": {},
   "outputs": [],
   "source": [
    "#Select all leased stores\n",
    "leased_stores = rawdata[(rawdata['Owned'] == False) & (rawdata['Month'] ==1)]\n",
    "#monthly rate is constant across the whole year\n",
    "\n",
    "owned_stores = rawdata[(rawdata['Owned'] == True) & (rawdata['Month'] ==1)] #monthly rate for the owned store"
   ]
  },
  {
   "cell_type": "code",
   "execution_count": null,
   "metadata": {},
   "outputs": [],
   "source": [
    "#Imputed rent: average rent for all stores in the state\n",
    "leased_stores['Adjusted rent'] = leased_stores.groupby(['State'])['Rental cost'].transform('mean') #assuming stores have the same size\n",
    "\n",
    "#Create the \"State-Rent\" mapping table\n",
    "rent_table = leased_stores[['State', 'Adjusted rent']].drop_duplicates()\n",
    "df_merge = pd.merge(rawdata, rent_table, on='State')\n",
    "\n",
    "#if owned is false, keep the original rent; o.w add in the average rent price of that state as the imputed rent\n",
    "df_merge.loc[df_merge['Owned'] == False, 'Adjusted rent'] = df_merge['Rental cost'] "
   ]
  },
  {
   "cell_type": "code",
   "execution_count": null,
   "metadata": {},
   "outputs": [],
   "source": [
    "#Computed Adjusted profit margin using the imputed rent for all stores\n",
    "df_merge['Net income'] = df_merge['Gross revenue'] - df_merge['Fixed cost'] - df_merge['Variable cost'] -df_merge['Adjusted rent']\n",
    "aggregate_4 = df_merge.groupby(df_merge['Location number']).sum()\n",
    "aggregate_4['Adjusted profit margin'] = (aggregate_4['Net income'] / aggregate_4['Number of products'])\n"
   ]
  },
  {
   "cell_type": "code",
   "execution_count": 287,
   "metadata": {},
   "outputs": [
    {
     "data": {
      "text/plain": [
       "1739.923403853427"
      ]
     },
     "execution_count": 287,
     "metadata": {},
     "output_type": "execute_result"
    }
   ],
   "source": [
    "aggregate_4['Adjusted profit margin'].mean() #1739.92, slightly smaller than original margin"
   ]
  },
  {
   "cell_type": "code",
   "execution_count": 288,
   "metadata": {},
   "outputs": [
    {
     "data": {
      "text/plain": [
       "1470.0773239000584"
      ]
     },
     "execution_count": 288,
     "metadata": {},
     "output_type": "execute_result"
    }
   ],
   "source": [
    "aggregate_4['Adjusted profit margin'].median() #1470.08, also slightly smaller than original margin"
   ]
  },
  {
   "cell_type": "code",
   "execution_count": null,
   "metadata": {},
   "outputs": [],
   "source": [
    "#Part 3 – Quantify drivers of success:\n",
    "#identify factors that have led to historical outperformance across locations. \n",
    "#maximizing profit margin at each location. "
   ]
  },
  {
   "cell_type": "code",
   "execution_count": null,
   "metadata": {},
   "outputs": [],
   "source": [
    "#state-location\n",
    "df_merge.head()"
   ]
  },
  {
   "cell_type": "code",
   "execution_count": null,
   "metadata": {},
   "outputs": [],
   "source": [
    "df_merge['State'].unique()"
   ]
  },
  {
   "cell_type": "code",
   "execution_count": null,
   "metadata": {},
   "outputs": [],
   "source": [
    "#Create the dataframe that aggregates across states, with the adjusted rent\n",
    "aggregate_5 = df_merge.groupby('State').sum()#group by state\n",
    "aggregate_5['Adjusted profit margin'] = (aggregate_5['Net income'] / aggregate_5['Number of products'])\n",
    "aggregate_5.sort_values(by = ['Adjusted profit margin'])"
   ]
  },
  {
   "cell_type": "code",
   "execution_count": 289,
   "metadata": {},
   "outputs": [
    {
     "data": {
      "text/plain": [
       "<matplotlib.axes._subplots.AxesSubplot at 0x1276f3c50>"
      ]
     },
     "execution_count": 289,
     "metadata": {},
     "output_type": "execute_result"
    },
    {
     "data": {
      "image/png": "[encoded data removed]",
      "text/plain": [
       "<Figure size 432x288 with 1 Axes>"
      ]
     },
     "metadata": {
      "needs_background": "light"
     },
     "output_type": "display_data"
    }
   ],
   "source": [
    "aggregate_5['Adjusted profit margin'].plot()"
   ]
  },
  {
   "cell_type": "code",
   "execution_count": null,
   "metadata": {},
   "outputs": [],
   "source": [
    "df_merge.groupby('State').count()['Location number'].plot() # seems like num of stores and \n",
    "#adj profit margin have the same distribution for most of the states except GA and CO\n"
   ]
  },
  {
   "cell_type": "code",
   "execution_count": null,
   "metadata": {},
   "outputs": [],
   "source": [
    "#month-time\n",
    "#Create the dataframe that aggregates across Months, with the adjusted rent\n",
    "aggregate_6 = df_merge.groupby('Month').sum()#monthly\n",
    "aggregate_6['Adjusted profit margin'] = (aggregate_6['Net income'] / aggregate_6['Number of products'])"
   ]
  },
  {
   "cell_type": "code",
   "execution_count": null,
   "metadata": {},
   "outputs": [],
   "source": [
    "aggregate_6['Adjusted profit margin'].plot()"
   ]
  },
  {
   "cell_type": "code",
   "execution_count": null,
   "metadata": {},
   "outputs": [],
   "source": [
    "aggregate_6.sort_values(by = ['Adjusted profit margin'])"
   ]
  },
  {
   "cell_type": "code",
   "execution_count": null,
   "metadata": {},
   "outputs": [],
   "source": [
    "aggregate_6['Net income'].plot()#3, 6, 9, 12 have higher income, increases number of products in these months"
   ]
  },
  {
   "cell_type": "code",
   "execution_count": null,
   "metadata": {},
   "outputs": [],
   "source": [
    "#yearly income of each of the 333 stores\n",
    "aggregate_7 = df_merge.groupby('Location number').sum()\n",
    "aggregate_7['Adjusted profit margin'] = (aggregate_7['Net income'] / aggregate_7['Number of products'])\n"
   ]
  },
  {
   "cell_type": "code",
   "execution_count": null,
   "metadata": {},
   "outputs": [],
   "source": [
    "aggregate_7.sort_values(by = ['Adjusted profit margin'])"
   ]
  },
  {
   "cell_type": "code",
   "execution_count": null,
   "metadata": {},
   "outputs": [],
   "source": [
    "aggregate_7['Adjusted profit margin'].plot()"
   ]
  },
  {
   "cell_type": "code",
   "execution_count": null,
   "metadata": {},
   "outputs": [],
   "source": [
    "aggregate_7.nlargest(5, 'Adjusted profit margin') #only 2 are owned stores, loc: 300 and 9"
   ]
  },
  {
   "cell_type": "code",
   "execution_count": null,
   "metadata": {},
   "outputs": [],
   "source": [
    "df_merge.loc[df_merge['Location number'] ==197]#check for details of outperfoming stores"
   ]
  },
  {
   "cell_type": "code",
   "execution_count": null,
   "metadata": {},
   "outputs": [],
   "source": [
    "aggregate_7['Number of products'].plot()"
   ]
  },
  {
   "cell_type": "code",
   "execution_count": null,
   "metadata": {},
   "outputs": [],
   "source": [
    "#yearly income of each of the 333 stores\n",
    "aggregate_8 = df_merge.groupby('Quarter').sum()\n",
    "aggregate_8['Adjusted profit margin'] = (aggregate_8['Net income'] / aggregate_8['Number of products'])"
   ]
  },
  {
   "cell_type": "code",
   "execution_count": null,
   "metadata": {},
   "outputs": [],
   "source": [
    "aggregate_8['Adjusted profit margin'].plot()"
   ]
  }
 ],
 "metadata": {
  "kernelspec": {
   "display_name": "Python 3",
   "language": "python",
   "name": "python3"
  },
  "language_info": {
   "codemirror_mode": {
    "name": "ipython",
    "version": 3
   },
   "file_extension": ".py",
   "mimetype": "text/x-python",
   "name": "python",
   "nbconvert_exporter": "python",
   "pygments_lexer": "ipython3",
   "version": "3.7.3"
  }
 },
 "nbformat": 4,
 "nbformat_minor": 2
}
